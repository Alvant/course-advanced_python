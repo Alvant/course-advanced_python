{
 "cells": [
  {
   "cell_type": "markdown",
   "metadata": {},
   "source": [
    "# Синтаксис Python (продолжение)\n"
   ]
  },
  {
   "cell_type": "markdown",
   "metadata": {},
   "source": [
    "## Справка по функциям и классам\n",
    "\n",
    "В языке python есть встроенные механизмы, позволяющие отображать справку по библиотекам, функциям и классам языка python. К таким механизмам относятся документ-строки и функция `help()`. Данная функция позволяет вывести справочную информацию о другом объекте. Даже если вы знаете про интересующий вас объект, иногда бывает полезно посмотреть документ-строку к нему."
   ]
  },
  {
   "cell_type": "code",
   "execution_count": 26,
   "metadata": {},
   "outputs": [
    {
     "name": "stdout",
     "output_type": "stream",
     "text": [
      "Help on built-in function print in module builtins:\n",
      "\n",
      "print(...)\n",
      "    print(value, ..., sep=' ', end='\\n', file=sys.stdout, flush=False)\n",
      "    \n",
      "    Prints the values to a stream, or to sys.stdout by default.\n",
      "    Optional keyword arguments:\n",
      "    file:  a file-like object (stream); defaults to the current sys.stdout.\n",
      "    sep:   string inserted between values, default a space.\n",
      "    end:   string appended after the last value, default a newline.\n",
      "    flush: whether to forcibly flush the stream.\n",
      "\n"
     ]
    }
   ],
   "source": [
    "help(print)"
   ]
  },
  {
   "cell_type": "code",
   "execution_count": 33,
   "metadata": {
    "scrolled": false
   },
   "outputs": [
    {
     "name": "stdout",
     "output_type": "stream",
     "text": [
      "Help on _Helper in module _sitebuiltins object:\n",
      "\n",
      "class _Helper(builtins.object)\n",
      " |  Define the builtin 'help'.\n",
      " |  \n",
      " |  This is a wrapper around pydoc.help that provides a helpful message\n",
      " |  when 'help' is typed at the Python interactive prompt.\n",
      " |  \n",
      " |  Calling help() at the Python prompt starts an interactive help session.\n",
      " |  Calling help(thing) prints help for the python object 'thing'.\n",
      " |  \n",
      " |  Methods defined here:\n",
      " |  \n",
      " |  __call__(self, *args, **kwds)\n",
      " |      Call self as a function.\n",
      " |  \n",
      " |  __repr__(self)\n",
      " |      Return repr(self).\n",
      " |  \n",
      " |  ----------------------------------------------------------------------\n",
      " |  Data descriptors defined here:\n",
      " |  \n",
      " |  __dict__\n",
      " |      dictionary for instance variables (if defined)\n",
      " |  \n",
      " |  __weakref__\n",
      " |      list of weak references to the object (if defined)\n",
      "\n"
     ]
    }
   ],
   "source": [
    "help(help)"
   ]
  },
  {
   "cell_type": "markdown",
   "metadata": {},
   "source": [
    "Эта справка описывается в так называемых документ-строках. Они позволяют нужную информацию сохранить и  показать. Документ-строки описываются в функцияэ, классах, модулях в начале."
   ]
  },
  {
   "cell_type": "code",
   "execution_count": 37,
   "metadata": {},
   "outputs": [],
   "source": [
    "def my_func(a, b):\n",
    "    '''\n",
    "    This is an example function. It returns sum of a and b.\n",
    "    \n",
    "    a: first value\n",
    "    b: second value\n",
    "    \n",
    "    returns: sum of a and b\n",
    "    '''\n",
    "    return a+b"
   ]
  },
  {
   "cell_type": "code",
   "execution_count": 38,
   "metadata": {},
   "outputs": [
    {
     "name": "stdout",
     "output_type": "stream",
     "text": [
      "Help on function my_func in module __main__:\n",
      "\n",
      "my_func(a, b)\n",
      "    This is an example function. It returns sum of a and b.\n",
      "    \n",
      "    a: first value\n",
      "    b: second value\n",
      "    \n",
      "    returns: sum of a and b\n",
      "\n"
     ]
    }
   ],
   "source": [
    "help(my_func)"
   ]
  },
  {
   "cell_type": "markdown",
   "metadata": {},
   "source": [
    "При написании своих программ не забывайте использовать документ-строки. А если не знаетете, что делает и какие параметры принимает функция или для чего нужен класс -- не ленитесь заглядывать в справку прежде чем обращаться за помощью к гуглу и тем более преподавателю."
   ]
  },
  {
   "cell_type": "markdown",
   "metadata": {},
   "source": [
    "## Упражнение 1\n",
    "\n",
    "Сколько аргументов принимает функция `open`? Чем отличается `mode=\"xb\"` и `mode=\"wb\"`?"
   ]
  },
  {
   "cell_type": "markdown",
   "metadata": {},
   "source": [
    "\n",
    "## Работа со строками\n",
    "\n",
    "На практике со строками приходится работать достаточно часто. В виде строк поступает вход из команды `input()`, в виде текста читается информация из файла. Поэтому важно разобрать, как именно можно работать с текстовыми данными.\n",
    "\n",
    "Текстовый данные в языке пайтон описываются классом `str`:"
   ]
  },
  {
   "cell_type": "code",
   "execution_count": 13,
   "metadata": {},
   "outputs": [
    {
     "name": "stdout",
     "output_type": "stream",
     "text": [
      "<class 'str'>\n"
     ]
    }
   ],
   "source": [
    "print(type(\"qwerty\"))"
   ]
  },
  {
   "cell_type": "markdown",
   "metadata": {},
   "source": [
    "При этом строка представляет из себя объект-коллекцию и есть возможность получить доступ к отдельным ее элементам по индексу:"
   ]
  },
  {
   "cell_type": "code",
   "execution_count": 14,
   "metadata": {},
   "outputs": [
    {
     "name": "stdout",
     "output_type": "stream",
     "text": [
      "r\n"
     ]
    }
   ],
   "source": [
    "print(\"qwerty\"[3])"
   ]
  },
  {
   "cell_type": "markdown",
   "metadata": {},
   "source": [
    "Строки в языке python являются неизменяемым типом, то есть для того, чтобы изменить, удалить символ из строки или соединить 2 строки в одну, в памяти создается другой объект-строка с результатом.\n",
    "\n",
    "Первый метод строк, который мы рассмотрим -- это метод `str.split(sep=None, maxsplit=-1)`. Он позволяет разбить строку на список строк по определенному разделителю. Разделитель передается в метод первым аргументом. Иногда необходимо разбть не всю строку, а тольео первые `n` участков. Тогда используется аргумент `maxsplit`, который показывет, какое максимальное количество раз требуется делить строку:"
   ]
  },
  {
   "cell_type": "code",
   "execution_count": 11,
   "metadata": {},
   "outputs": [
    {
     "name": "stdout",
     "output_type": "stream",
     "text": [
      "0 ['value1,value2,value3,value4,value5']\n",
      "1 ['value1', 'value2,value3,value4,value5']\n",
      "2 ['value1', 'value2', 'value3,value4,value5']\n",
      "3 ['value1', 'value2', 'value3', 'value4,value5']\n",
      "4 ['value1', 'value2', 'value3', 'value4', 'value5']\n",
      "5 ['value1', 'value2', 'value3', 'value4', 'value5']\n"
     ]
    }
   ],
   "source": [
    "s = \"value1,value2,value3,value4,value5\"\n",
    "\n",
    "for i in range(6):\n",
    "    print(i, s.split(\",\", maxsplit=i))"
   ]
  },
  {
   "cell_type": "markdown",
   "metadata": {},
   "source": [
    "Существует и противоположный метод -- `str.join(iterable)`. Он позволяет объединить список (или другой итерируемый объект) строк в одну строку. При этом разделителем будет выступать исходная строка, у которой мы и вызываем данный метод. При этом `join` **НЕ ПРЕОБРАЗОВЫВАЕТ** объект из коллекции в строку. Следовательно, если в коллекции встретится не строка, метод вылетит по ошибке."
   ]
  },
  {
   "cell_type": "code",
   "execution_count": 17,
   "metadata": {},
   "outputs": [
    {
     "name": "stdout",
     "output_type": "stream",
     "text": [
      "value1;\n",
      "value2;\n",
      "value3;\n",
      "value4;\n",
      "value5\n"
     ]
    }
   ],
   "source": [
    "lst = ['value1', 'value2', 'value3', 'value4', 'value5']\n",
    "\n",
    "print(\";\\n\".join(lst))"
   ]
  },
  {
   "cell_type": "markdown",
   "metadata": {},
   "source": [
    "Метод строк `str.isdigit()` позволяет проверить, состоит ли строка из цифр."
   ]
  },
  {
   "cell_type": "code",
   "execution_count": 90,
   "metadata": {},
   "outputs": [
    {
     "name": "stdout",
     "output_type": "stream",
     "text": [
      "False\n",
      "True\n"
     ]
    }
   ],
   "source": [
    "print(\"asdf\".isdigit())\n",
    "print(\"1234\".isdigit())"
   ]
  },
  {
   "cell_type": "markdown",
   "metadata": {},
   "source": [
    "При обработке строк бывает полезно привести их к нижнему или верхнему регистру. Для этого могут использоваться методы `str.lower()` и `str.upper()` соответственно. Методы `str.islower()` и `str.isupper()` позволяют проверить, принадлежат ли все символы строки к верхнему или к нижнему регимтру соответственно."
   ]
  },
  {
   "cell_type": "code",
   "execution_count": 93,
   "metadata": {},
   "outputs": [
    {
     "name": "stdout",
     "output_type": "stream",
     "text": [
      "False\n",
      "qwerty\n"
     ]
    }
   ],
   "source": [
    "print(\"QwErTy\".islower())\n",
    "print(\"QwErTy\".lower())"
   ]
  },
  {
   "cell_type": "markdown",
   "metadata": {},
   "source": [
    "## Упражение 2\n",
    "\n",
    "На вход вашей программе подается строка, состоящая из слов, разделенных символом `;`. Посчитайте количество чисел, слов в ниженм и верхнем регистре, и всех остальных слов."
   ]
  },
  {
   "cell_type": "markdown",
   "metadata": {},
   "source": [
    "Довольно часто вам приходится подставлять значения различных переменных в ваши строки. \n",
    "Существует несколько способов сделать это. Рассмотрим каждый из спсобов.\n",
    "\n",
    "Первый и самый простой способ -- простой сбор строк по кусочкам. Ghb этом переменные необходимо привести к строковому виду.\n",
    "Такой способ порождает путанницу в коде и дополнительный мусор в памяти, так что лучше стараться его избегать."
   ]
  },
  {
   "cell_type": "code",
   "execution_count": 95,
   "metadata": {},
   "outputs": [
    {
     "name": "stdout",
     "output_type": "stream",
     "text": [
      "Value1 = 5, Value2 = 7;\n"
     ]
    }
   ],
   "source": [
    "s = \"Value1 = \" + str(5) + \", Value2 = \" + str(7.5) + \";\"\n",
    "\n",
    "print(s)"
   ]
  },
  {
   "cell_type": "markdown",
   "metadata": {},
   "source": [
    "Второй способ аналогичен форматированию в языке С. Этот метод довольно прост, хотя и не слишком гибок. К достоинствам можно отнести, что он является самым быстрым из перечисленных."
   ]
  },
  {
   "cell_type": "code",
   "execution_count": 103,
   "metadata": {},
   "outputs": [
    {
     "name": "stdout",
     "output_type": "stream",
     "text": [
      "Value1 = 05, Value2 = 07.50\n"
     ]
    }
   ],
   "source": [
    "s = \"Value1 = %02d, Value2 = %05.2f\" % (5, 7.5)\n",
    "\n",
    "print(s)"
   ]
  },
  {
   "cell_type": "markdown",
   "metadata": {},
   "source": [
    "Третий способ -- метод `str.format()`. Он является наиболее pythonic способом и обладает очень гибкими возможностями. Кроме простой подстановки значений он также может\n",
    "\n",
    "1. Позволяет получать значения в виде списка\n",
    "2. Указывать номера аргументов\n",
    "3. Использовать словари с названиями аргументов\n",
    "4. Обращаться к атрибутам объектов и элементам коллекци1\n",
    "5. Является callabe и может передаваться в качестве аргумента другим функциям"
   ]
  },
  {
   "cell_type": "code",
   "execution_count": 135,
   "metadata": {},
   "outputs": [
    {
     "name": "stdout",
     "output_type": "stream",
     "text": [
      "1:\t 1;2;3\n",
      "2:\t 3;1;2;3;2\n",
      "3:\t 1;3;3;2;1\n",
      "4.1:\t 2\n",
      "4.2:\t x: 5; y: 6\n",
      "5.1:\t x=0, y=1\n",
      "5.2:\t x=1, y=3\n",
      "5.3:\t x=5, y=6\n"
     ]
    }
   ],
   "source": [
    "# 1\n",
    "args = [1, 2, 3]\n",
    "s = \"{};{};{}\".format(*args)\n",
    "print(\"1:\\t\", s)\n",
    "\n",
    "# 2\n",
    "s = \"{2};{0};{1};{2};{1}\".format(*args)\n",
    "print(\"2:\\t\", s)\n",
    "\n",
    "# 3\n",
    "s = \"{a};{c};{c};{b};{a}\".format(a=1, b=2, c=3)\n",
    "print(\"3:\\t\", s)\n",
    "\n",
    "# 4\n",
    "s = \"{0[1]}\".format([1, 2, 3])\n",
    "print(\"4.1:\\t\", s)\n",
    "\n",
    "class Vector:\n",
    "    def __init__(self, x, y):\n",
    "        self.x = x\n",
    "        self.y = y\n",
    "vec = Vector(5,6)\n",
    "\n",
    "s = \"x: {0.x}; y: {0.y}\".format(vec)\n",
    "print(\"4.2:\\t\", s)\n",
    "\n",
    "#5\n",
    "lst = [[0,1], [1,3], [5,6]]\n",
    "o_map = map(\"x={0[0]}, y={0[1]}\".format, lst)\n",
    "for i, elem in enumerate(o_map):\n",
    "    print(\"5.{}:\\t\".format(i+1), elem)\n"
   ]
  },
  {
   "cell_type": "markdown",
   "metadata": {},
   "source": [
    "## Упражение 3\n",
    "\n",
    "Написать функцию, которая нринимает на вход список чисел и печатает минимум, максимум, и среднее значение в формате:\n",
    "\n",
    "min:  1<br/>\n",
    "max:  10<br/>\n",
    "mean: 5 "
   ]
  },
  {
   "cell_type": "markdown",
   "metadata": {},
   "source": [
    "## "
   ]
  }
 ],
 "metadata": {
  "kernelspec": {
   "display_name": "Python 3",
   "language": "python",
   "name": "python3"
  },
  "language_info": {
   "codemirror_mode": {
    "name": "ipython",
    "version": 3
   },
   "file_extension": ".py",
   "mimetype": "text/x-python",
   "name": "python",
   "nbconvert_exporter": "python",
   "pygments_lexer": "ipython3",
   "version": "3.6.5"
  }
 },
 "nbformat": 4,
 "nbformat_minor": 2
}
